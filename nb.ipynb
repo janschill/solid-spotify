{
 "metadata": {
  "language_info": {
   "codemirror_mode": {
    "name": "ipython",
    "version": 3
   },
   "file_extension": ".py",
   "mimetype": "text/x-python",
   "name": "python",
   "nbconvert_exporter": "python",
   "pygments_lexer": "ipython3",
   "version": "3.8.0-final"
  },
  "orig_nbformat": 2,
  "kernelspec": {
   "name": "python3",
   "display_name": "Python 3.8.0 64-bit",
   "metadata": {
    "interpreter": {
     "hash": "f90210bf2d17d0292a6cdd5024018b6fe52d30c08a71b180047fc1e677d12697"
    }
   }
  }
 },
 "nbformat": 4,
 "nbformat_minor": 2,
 "cells": [
  {
   "cell_type": "code",
   "execution_count": 1,
   "metadata": {},
   "outputs": [],
   "source": [
    "from dotenv import load_dotenv\n",
    "load_dotenv()\n",
    "import os\n",
    "import spotipy\n",
    "from spotipy.oauth2 import SpotifyOAuth\n",
    "\n",
    "CLIENT_ID=os.getenv(\"CLIENT_ID\")\n",
    "CLIENT_SECRET=os.getenv(\"CLIENT_SECRET\")\n",
    "REDIRECT_URI=\"http://localhost:5566\"\n",
    "SCOPE = \"user-library-read user-read-currently-playing streaming user-read-playback-state user-read-recently-played\"\n",
    "\n",
    "sp = spotipy.Spotify(auth_manager=SpotifyOAuth(client_id=CLIENT_ID,\n",
    "                                               client_secret=CLIENT_SECRET,\n",
    "                                               redirect_uri=REDIRECT_URI,\n",
    "                                               scope=SCOPE))"
   ]
  },
  {
   "cell_type": "code",
   "execution_count": 101,
   "metadata": {},
   "outputs": [],
   "source": [
    "def ms_to_iso8064_duration(time_in_ms):\n",
    "    time_in_s = round(time_in_ms / 1000, 2)\n",
    "    return f'PT{time_in_s}S'"
   ]
  },
  {
   "cell_type": "code",
   "execution_count": 2,
   "metadata": {},
   "outputs": [
    {
     "output_type": "stream",
     "name": "stdout",
     "text": [
      "0 Tom Misch  –  Crazy Dream\n1 Acid Pauli  –  Ahmed\n2 Ariel Pink  –  Baby\n3 KOKOROKO  –  Abusey Junction\n4 Khruangbin  –  Dearest Alfred (MyJoy)\n5 Los Tucanes De Tijuana  –  El Tucanazo\n6 SZA  –  Good Days\n7 Leykenda  –  Anxiety - Edit\n8 Paige  –  Losing Control\n9 Nicolas Jaar  –  Mi Mujer\n10 Kasper Bjørke  –  Heaven - Nicolas Jaar Remix\n11 LJ MASE  –  Memories\n12 Sido  –  Schono ke\n13 BHZ  –  Nelly\n14 JACKBOYS  –  GATTI\n15 Drake  –  Time Flies\n16 Johnny Nash  –  I Can See Clearly Now - Edit\n17 Curtis Harding  –  On And On\n18 slowthai  –  feel away (feat. James Blake & Mount Kimbie)\n19 slowthai  –  nhs\n20 slowthai  –  MAZZA (feat. A$AP Rocky)\n21 Bausa  –  Centre Court\n22 Miksu / Macloud  –  Lonely\n23 Luciano  –  SUICIDE DOORS\n24 Ufo361  –  7\n25 Samra  –  Lost (feat. TOPIC42)\n26 Benal  –  Tænker Lidt På dig (feat. Wads.png)\n27 Apache 207  –  Angst\n28 James Brown  –  The Payback\n29 RÜFÜS DU SOL  –  Innerbloom\n30 Queen  –  Don't Stop Me Now - Remastered 2011\n31 Citybois  –  Sig Mig\n32 Jay Electronica  –  Ghost Of Soulja Slim\n33 Jay Electronica  –  A.P.I.D.T.A.\n34 Dean Martin  –  Tik-A-Tee, Tik-A-Tay\n35 Dean Martin  –  Gentle on My Mind\n36 THE SCOTTS  –  THE SCOTTS\n37 Kid Cudi  –  Sad People\n38 Kid Cudi  –  Tequila Shots\n39 Sébastien Léger  –  Giza\n40 Mulya  –  Rush\n41 Adana Twins  –  My Computer\n42 Boris Brejcha  –  To The Moon And Back\n43 Money Boy  –  Drip Drop\n44 Westside Gunn  –  327\n45 A$AP Rocky  –  Buck Shots\n46 SAINt JHN  –  Smack DVD (feat. Kanye West)\n47 Kanye West  –  Wash Us In The Blood\n48 A$AP Rocky  –  Purity (feat. Frank Ocean)\n49 A$AP Rocky  –  Praise The Lord (Da Shine) (feat. Skepta)\n"
     ]
    }
   ],
   "source": [
    "saved_tracks = sp.current_user_saved_tracks(50)\n",
    "for idx, item in enumerate(saved_tracks['items']):\n",
    "    track = item['track']\n",
    "    print(idx, track['artists'][0]['name'], \" – \", track['name'])"
   ]
  },
  {
   "cell_type": "code",
   "execution_count": 103,
   "metadata": {},
   "outputs": [],
   "source": [
    "last_50_tracks_played = sp.current_user_recently_played(50)\n",
    "for idx, item in enumerate(last_50_tracks_played['items']):\n",
    "    track = item['track']\n",
    "    # print(idx, track['artists'][0]['name'], \" – \", track['name'])\n",
    "\n",
    "# interesting meta data\n",
    "played_at = last_50_tracks_played['items'][0]['played_at'] # time it was played\n",
    "album_name = last_50_tracks_played['items'][0]['track']['album']['name'] # album name\n",
    "album_href = last_50_tracks_played['items'][0]['track']['album']['href'] # use as subject?\n",
    "album_id = last_50_tracks_played['items'][0]['track']['album']['id'] # use as subject?\n",
    "album_images = last_50_tracks_played['items'][0]['track']['album']['images'] # [Array] for interface\n",
    "album_release_date = last_50_tracks_played['items'][0]['track']['album']['release_date']\n",
    "artists = last_50_tracks_played['items'][0]['track']['artists'] # Array\n",
    "first_artist_href = last_50_tracks_played['items'][0]['track']['artists'][0]['href']\n",
    "first_artist_id = last_50_tracks_played['items'][0]['track']['artists'][0]['id']\n",
    "first_artist_name = last_50_tracks_played['items'][0]['track']['artists'][0]['name']\n",
    "name = last_50_tracks_played['items'][0]['track']['name']\n",
    "popularity = last_50_tracks_played['items'][0]['track']['popularity']\n",
    "href = last_50_tracks_played['items'][0]['track']['href']\n",
    "duration_ms = last_50_tracks_played['items'][0]['track']['duration_ms']"
   ]
  },
  {
   "source": [
    "Schema mapping\n",
    "\n",
    "```\n",
    "-----\n",
    "Track\n",
    "-----\n",
    "Context: https://schema.org/\n",
    "Type: MusicRecording\n",
    "album: MusicRecording:inAlbum\n",
    "artist: MusicRecording:byArtist\n",
    "duration: MusicRecording:duration (ISO 8601)\n",
    "\n",
    "------\n",
    "Artist\n",
    "------\n",
    "@context: https://schema.org/\n",
    "@type: MusicGroup\n",
    "name: \"Kendrick Lamar\"\n",
    "track: [\n",
    "    {\n",
    "        @type: MusicRecording\n",
    "        name: love\n",
    "    }\n",
    "]\n",
    "\n",
    "-----\n",
    "Album\n",
    "-----\n",
    "Context: https://schema.org/\n",
    "Type: MusicAlbum\n",
    "artist: MusicRecording:byArtist\n",
    "\n",
    "```\n",
    "\n",
    "| key | schema |\n",
    "| - | - |\n",
    "| played_at |  |\n",
    "| album_name | |\n",
    "| album_href | |\n",
    "| album_id | |\n",
    "| album_images | |\n",
    "| album_release_date | |\n",
    "| artists | |\n",
    "| first_artist_href | |\n",
    "| first_artist_id | |\n",
    "| first_artist_name | |\n",
    "| name | |\n",
    "| popularity |  |\n",
    "| href | subject [for track] |\n",
    "| duration_ms | duration [in ISO 8601] |"
   ],
   "cell_type": "markdown",
   "metadata": {}
  },
  {
   "cell_type": "code",
   "execution_count": 57,
   "metadata": {},
   "outputs": [
    {
     "output_type": "stream",
     "name": "stdout",
     "text": [
      "http://www.w3.org/ns/csvw#seeAlso\nhttp://purl.org/dc/elements/1.1/seeAlso\nhttp://www.w3.org/ns/dcat#seeAlso\nhttp://purl.org/dc/terms/seeAlso\nhttp://www.w3.org/ns/odrl/2/seeAlso\nhttp://www.w3.org/ns/org#seeAlso\nhttp://www.w3.org/2002/07/owl#seeAlso\nhttp://www.w3.org/ns/dx/prof/seeAlso\nhttp://www.w3.org/2000/01/rdf-schema#seeAlso\nhttps://schema.org/seeAlso\nhttp://www.w3.org/ns/shacl#seeAlso\nhttp://www.w3.org/ns/ssn/seeAlso\nhttp://www.w3.org/ns/sosa/seeAlso\nhttp://www.w3.org/2006/time#seeAlso\nhttp://rdfs.org/ns/void#seeAlso\nhttp://www.w3.org/2001/XMLSchema#seeAlso\n"
     ]
    }
   ],
   "source": [
    "# Available namespaces\n",
    "\n",
    "from rdflib.namespace import CSVW, DC, DCAT, DCTERMS, DOAP, FOAF, ODRL2, ORG, OWL, PROF, PROV, RDF, RDFS, SDO, SH, SKOS, SOSA, SSN, TIME, VOID, XMLNS, XSD\n",
    "\n",
    "print(CSVW.seeAlso)\n",
    "print(DC.seeAlso)\n",
    "print(DCAT.seeAlso)\n",
    "print(DCTERMS.seeAlso)\n",
    "# print(DOAP.seeAlso)\n",
    "# print(FOAF.seeAlso)\n",
    "print(ODRL2.seeAlso)\n",
    "print(ORG.seeAlso)\n",
    "print(OWL.seeAlso)\n",
    "print(PROF.seeAlso)\n",
    "# print(PROV.seeAlso)\n",
    "# print(RDF.seeAlso)\n",
    "print(RDFS.seeAlso)\n",
    "print(SDO.seeAlso)\n",
    "print(SH.seeAlso)\n",
    "# print(SKOS.seeAlso)\n",
    "print(SOSA.seeAlso)\n",
    "print(SSN.seeAlso)\n",
    "print(TIME.seeAlso)\n",
    "print(VOID.seeAlso)\n",
    "# print(XMLNS.seeAlso)\n",
    "print(XSD.seeAlso)"
   ]
  },
  {
   "cell_type": "code",
   "execution_count": 104,
   "metadata": {},
   "outputs": [
    {
     "output_type": "stream",
     "name": "stdout",
     "text": [
      "https://api.spotify.com/v1/tracks/5gcjlg6RtrnSz5mtk3kvi0 : Ode to Ipse\nhttps://api.spotify.com/v1/artists/6AwGe2F49hD3ANXvmOwqQB : Black Loops\nhttps://api.spotify.com/v1/albums/5Ki88XhcuWUk8WlXmaKrwS : Ode to Ipse\n"
     ]
    }
   ],
   "source": [
    "artist_href = first_artist_href\n",
    "artist_name = first_artist_name\n",
    "album_href = album_href\n",
    "album_name = album_name\n",
    "track_href = href\n",
    "track_name = name\n",
    "print(track_href, ':', track_name)\n",
    "print(artist_href, ':', artist_name)\n",
    "print(album_href, ':', album_name)"
   ]
  },
  {
   "cell_type": "code",
   "execution_count": 108,
   "metadata": {},
   "outputs": [
    {
     "output_type": "execute_result",
     "data": {
      "text/plain": [
       "'2021-02-05T15:24:16.006Z'"
      ]
     },
     "metadata": {},
     "execution_count": 108
    }
   ],
   "source": [
    "played_at"
   ]
  },
  {
   "cell_type": "code",
   "execution_count": 111,
   "metadata": {},
   "outputs": [
    {
     "output_type": "stream",
     "name": "stdout",
     "text": [
      "@prefix ns1: <http://xmlns.com/foaf/0.1/> .\n@prefix ns2: <https://schema.org/> .\n\n<https://api.spotify.com/v1/tracks/5gcjlg6RtrnSz5mtk3kvi0> a ns2:MusicRecording ;\n    ns1:name \"Ode to Ipse\" ;\n    ns2:byArtist <https://api.spotify.com/v1/artists/6AwGe2F49hD3ANXvmOwqQB> ;\n    ns2:duration \"PT339.0S\" ;\n    ns2:inAlbum <https://api.spotify.com/v1/albums/5Ki88XhcuWUk8WlXmaKrwS> ;\n    ns2:startTime \"2021-02-05T15:24:16.006Z\" .\n\n<https://api.spotify.com/v1/albums/5Ki88XhcuWUk8WlXmaKrwS> a ns2:MusicAlbum ;\n    ns1:name \"Ode to Ipse\" .\n\n<https://api.spotify.com/v1/artists/6AwGe2F49hD3ANXvmOwqQB> a ns2:MusicGroup ;\n    ns1:name \"Black Loops\" .\n\n\n"
     ]
    }
   ],
   "source": [
    "from rdflib import Graph, URIRef, Literal\n",
    "g = Graph()\n",
    "\n",
    "track_ref = URIRef(track_href)\n",
    "artist_ref = URIRef(artist_href)\n",
    "album_ref = URIRef(album_href)\n",
    "\n",
    "g.add((track_ref, RDF.type, SDO.MusicRecording))\n",
    "g.add((track_ref, FOAF.name, Literal(track_name)))\n",
    "g.add((track_ref, SDO.duration, Literal(ms_to_iso8064_duration(duration_ms))))\n",
    "g.add((track_ref, SDO.byArtist, artist_ref))\n",
    "g.add((track_ref, SDO.inAlbum, album_ref))\n",
    "g.add((track_ref, SDO.startTime, Literal(played_at)))\n",
    "# g.add((track_ref, SDO.endTime, Literal(played_at))) # startTime + duration\n",
    "g.add((artist_ref, RDF.type, SDO.MusicGroup))\n",
    "g.add((artist_ref, FOAF.name, Literal(artist_name)))\n",
    "g.add((album_ref, RDF.type, SDO.MusicAlbum))\n",
    "g.add((album_ref, FOAF.name, Literal(album_name)))\n",
    "\n",
    "print(g.serialize(format=\"turtle\").decode(\"utf-8\"))"
   ]
  },
  {
   "cell_type": "code",
   "execution_count": 112,
   "metadata": {},
   "outputs": [
    {
     "output_type": "stream",
     "name": "stdout",
     "text": [
      "\n"
     ]
    }
   ],
   "source": [
    "import requests\n",
    "\n",
    "# curl -X PUT -H \"Content-Type: text/turtle\" \\\n",
    "#   -d \"<ex:s> <ex:p> <ex:o>.\" \\\n",
    "#   http://localhost:3000/myfile.ttl\n",
    "\n",
    "url = 'http://localhost:3000/recent_tracks.ttl'\n",
    "headers = {\"content-type\": \"text/turtle\"}\n",
    "data = g.serialize(format=\"turtle\").decode(\"utf-8\")\n",
    "\n",
    "response = requests.put(url, headers = headers, data = data)\n",
    "\n",
    "print(response.text)"
   ]
  }
 ]
}