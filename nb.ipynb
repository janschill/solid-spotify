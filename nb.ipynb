{
 "metadata": {
  "language_info": {
   "codemirror_mode": {
    "name": "ipython",
    "version": 3
   },
   "file_extension": ".py",
   "mimetype": "text/x-python",
   "name": "python",
   "nbconvert_exporter": "python",
   "pygments_lexer": "ipython3",
   "version": "3.8.0-final"
  },
  "orig_nbformat": 2,
  "kernelspec": {
   "name": "python3",
   "display_name": "Python 3.8.0 64-bit",
   "metadata": {
    "interpreter": {
     "hash": "f90210bf2d17d0292a6cdd5024018b6fe52d30c08a71b180047fc1e677d12697"
    }
   }
  }
 },
 "nbformat": 4,
 "nbformat_minor": 2,
 "cells": [
  {
   "cell_type": "code",
   "execution_count": 57,
   "metadata": {},
   "outputs": [
    {
     "output_type": "stream",
     "name": "stdout",
     "text": [
      "http://www.w3.org/ns/csvw#seeAlso\nhttp://purl.org/dc/elements/1.1/seeAlso\nhttp://www.w3.org/ns/dcat#seeAlso\nhttp://purl.org/dc/terms/seeAlso\nhttp://www.w3.org/ns/odrl/2/seeAlso\nhttp://www.w3.org/ns/org#seeAlso\nhttp://www.w3.org/2002/07/owl#seeAlso\nhttp://www.w3.org/ns/dx/prof/seeAlso\nhttp://www.w3.org/2000/01/rdf-schema#seeAlso\nhttps://schema.org/seeAlso\nhttp://www.w3.org/ns/shacl#seeAlso\nhttp://www.w3.org/ns/ssn/seeAlso\nhttp://www.w3.org/ns/sosa/seeAlso\nhttp://www.w3.org/2006/time#seeAlso\nhttp://rdfs.org/ns/void#seeAlso\nhttp://www.w3.org/2001/XMLSchema#seeAlso\n"
     ]
    }
   ],
   "source": [
    "# Available namespaces\n",
    "\n",
    "from rdflib.namespace import CSVW, DC, DCAT, DCTERMS, DOAP, FOAF, ODRL2, ORG, OWL, PROF, PROV, RDF, RDFS, SDO, SH, SKOS, SOSA, SSN, TIME, VOID, XMLNS, XSD\n",
    "\n",
    "print(CSVW.seeAlso)\n",
    "print(DC.seeAlso)\n",
    "print(DCAT.seeAlso)\n",
    "print(DCTERMS.seeAlso)\n",
    "# print(DOAP.seeAlso)\n",
    "# print(FOAF.seeAlso)\n",
    "print(ODRL2.seeAlso)\n",
    "print(ORG.seeAlso)\n",
    "print(OWL.seeAlso)\n",
    "print(PROF.seeAlso)\n",
    "# print(PROV.seeAlso)\n",
    "# print(RDF.seeAlso)\n",
    "print(RDFS.seeAlso)\n",
    "print(SDO.seeAlso)\n",
    "print(SH.seeAlso)\n",
    "# print(SKOS.seeAlso)\n",
    "print(SOSA.seeAlso)\n",
    "print(SSN.seeAlso)\n",
    "print(TIME.seeAlso)\n",
    "print(VOID.seeAlso)\n",
    "# print(XMLNS.seeAlso)\n",
    "print(XSD.seeAlso)"
   ]
  },
  {
   "cell_type": "code",
   "execution_count": 141,
   "metadata": {},
   "outputs": [],
   "source": [
    "from dotenv import load_dotenv\n",
    "load_dotenv()\n",
    "import os\n",
    "import spotipy\n",
    "from spotipy.oauth2 import SpotifyOAuth\n",
    "\n",
    "CLIENT_ID=os.getenv(\"CLIENT_ID\")\n",
    "CLIENT_SECRET=os.getenv(\"CLIENT_SECRET\")\n",
    "REDIRECT_URI=\"http://localhost:5566\"\n",
    "SCOPE = \"user-library-read user-read-currently-playing streaming user-read-playback-state user-read-recently-played\"\n",
    "\n",
    "sp = spotipy.Spotify(auth_manager=SpotifyOAuth(client_id=CLIENT_ID,\n",
    "                                               client_secret=CLIENT_SECRET,\n",
    "                                               redirect_uri=REDIRECT_URI,\n",
    "                                               scope=SCOPE))"
   ]
  },
  {
   "cell_type": "code",
   "execution_count": 142,
   "metadata": {},
   "outputs": [],
   "source": [
    "%%capture\n",
    "saved_tracks = sp.current_user_saved_tracks(50)\n",
    "for idx, item in enumerate(saved_tracks['items']):\n",
    "    track = item['track']\n",
    "    print(idx, track['artists'][0]['name'], \" – \", track['name'])\n"
   ]
  },
  {
   "cell_type": "code",
   "execution_count": 101,
   "metadata": {},
   "outputs": [],
   "source": [
    "def ms_to_iso8064_duration(time_in_ms):\n",
    "    time_in_s = round(time_in_ms / 1000, 2)\n",
    "    return f'PT{time_in_s}S'"
   ]
  },
  {
   "source": [
    "Schema mapping\n",
    "\n",
    "```\n",
    "-----\n",
    "Track\n",
    "-----\n",
    "Context: https://schema.org/\n",
    "Type: MusicRecording\n",
    "album: MusicRecording:inAlbum\n",
    "artist: MusicRecording:byArtist\n",
    "duration: MusicRecording:duration (ISO 8601)\n",
    "\n",
    "------\n",
    "Artist\n",
    "------\n",
    "@context: https://schema.org/\n",
    "@type: MusicGroup\n",
    "name: \"Kendrick Lamar\"\n",
    "track: [\n",
    "    {\n",
    "        @type: MusicRecording\n",
    "        name: love\n",
    "    }\n",
    "]\n",
    "\n",
    "-----\n",
    "Album\n",
    "-----\n",
    "Context: https://schema.org/\n",
    "Type: MusicAlbum\n",
    "artist: MusicRecording:byArtist\n",
    "\n",
    "```\n",
    "\n",
    "| key | schema |\n",
    "| - | - |\n",
    "| played_at |  |\n",
    "| album_name | |\n",
    "| album_href | |\n",
    "| album_id | |\n",
    "| album_images | |\n",
    "| album_release_date | |\n",
    "| artists | |\n",
    "| first_artist_href | |\n",
    "| first_artist_id | |\n",
    "| first_artist_name | |\n",
    "| name | |\n",
    "| popularity |  |\n",
    "| href | subject [for track] |\n",
    "| duration_ms | duration [in ISO 8601] |"
   ],
   "cell_type": "markdown",
   "metadata": {}
  },
  {
   "cell_type": "code",
   "execution_count": 137,
   "metadata": {},
   "outputs": [],
   "source": [
    "from rdflib import Graph, URIRef, Literal\n",
    "g = Graph()\n",
    "\n",
    "last_50_tracks_played = sp.current_user_recently_played(50)\n",
    "for idx, item in enumerate(last_50_tracks_played['items']):\n",
    "    add_track_to_graph(g, item)"
   ]
  },
  {
   "cell_type": "code",
   "execution_count": 138,
   "metadata": {
    "tags": [
     "outputPrepend"
    ]
   },
   "outputs": [
    {
     "output_type": "stream",
     "name": "stdout",
     "text": [
      "Artist <https://api.spotify.com/v1/artists/2NArTWfXN317Ok1Ale3xkX> ;\n    ns1:duration \"PT403.82S\" ;\n    ns1:inAlbum <https://api.spotify.com/v1/albums/0wlICzORLGl8yJwnc8q74I> ;\n    ns1:startTime \"2021-02-05T18:16:37.407Z\" .\n\n<https://api.spotify.com/v1/tracks/4CfkxZ4w0qCNuSA0hMJPeH> a ns1:MusicRecording ;\n    ns2:name \"Rare Happiness\" ;\n    ns1:byArtist <https://api.spotify.com/v1/artists/6uElH4moADg7AGB3DCGOwy> ;\n    ns1:duration \"PT351.21S\" ;\n    ns1:inAlbum <https://api.spotify.com/v1/albums/3HELUMHz9zL4T3BnwrXiR1> ;\n    ns1:startTime \"2021-02-05T15:37:19.998Z\" .\n\n<https://api.spotify.com/v1/tracks/4F2r6VndVq8LC2ZoPPQMwP> a ns1:MusicRecording ;\n    ns2:name \"Super Solid - Radio Edit\" ;\n    ns1:byArtist <https://api.spotify.com/v1/artists/0cKckxKy6R6LfDXp7TroK8> ;\n    ns1:duration \"PT279.72S\" ;\n    ns1:inAlbum <https://api.spotify.com/v1/albums/2wMUKeM1ayYSGd47HNfqlU> ;\n    ns1:startTime \"2021-02-05T18:39:31.712Z\" .\n\n<https://api.spotify.com/v1/tracks/4Xr9UKLq3YGnExa50oLfAw> a ns1:MusicRecording ;\n    ns2:name \"King Size\" ;\n    ns1:byArtist <https://api.spotify.com/v1/artists/39ywlwtGw8RTGobakgb11L> ;\n    ns1:duration \"PT297.43S\" ;\n    ns1:inAlbum <https://api.spotify.com/v1/albums/7poItoG0PxLsKHGfmHarWW> ;\n    ns1:startTime \"2021-02-05T15:11:09.567Z\" .\n\n<https://api.spotify.com/v1/tracks/4e316PpOtDD3WQE3t6Eqcp> a ns1:MusicRecording ;\n    ns2:name \"Mellow Mornings\" ;\n    ns1:byArtist <https://api.spotify.com/v1/artists/2XHa2Sy9IYid9hnQ2YmtGl> ;\n    ns1:duration \"PT154.81S\" ;\n    ns1:inAlbum <https://api.spotify.com/v1/albums/6t4sfAMZKZ3ik8VqhruGvc> ;\n    ns1:startTime \"2021-02-05T17:29:09.649Z\" .\n\n<https://api.spotify.com/v1/tracks/4hQjxwio9Crkg5uN10fxuv> a ns1:MusicRecording ;\n    ns2:name \"YOU CAN DO IT\" ;\n    ns1:byArtist <https://api.spotify.com/v1/artists/6ttw8B6m9uBsCjZtIm4NAN> ;\n    ns1:duration \"PT176.48S\" ;\n    ns1:inAlbum <https://api.spotify.com/v1/albums/5WlAN6SEos2wWvIDcccanh> ;\n    ns1:startTime \"2021-02-05T17:10:24.478Z\" .\n\n<https://api.spotify.com/v1/tracks/4i3Y42G0Um2iDVKb7XBRT9> a ns1:MusicRecording ;\n    ns2:name \"Far From Home\" ;\n    ns1:byArtist <https://api.spotify.com/v1/artists/2Cr2rpr7lav8wbSsvULw9u> ;\n    ns1:duration \"PT326.13S\" ;\n    ns1:inAlbum <https://api.spotify.com/v1/albums/0j49Rsgfpn2Q7RBQpZDssK> ;\n    ns1:startTime \"2021-02-05T17:01:23.017Z\" .\n\n<https://api.spotify.com/v1/tracks/4ke7CYBBuLAIHA5MGJxv3A> a ns1:MusicRecording ;\n    ns2:name \"Loose Wood - Ross From Friends Remix\" ;\n    ns1:byArtist <https://api.spotify.com/v1/artists/0DivrXwznd1NcQbRh86cQO> ;\n    ns1:duration \"PT428.94S\" ;\n    ns1:inAlbum <https://api.spotify.com/v1/albums/0VYerxRUVXPp3qoOD5fdY0> ;\n    ns1:startTime \"2021-02-05T15:44:28.886Z\" .\n\n<https://api.spotify.com/v1/tracks/4rOoDToHEC7ddVWfM0wdO8> a ns1:MusicRecording ;\n    ns2:name \"Tempted - Athlete Whippet Remix\" ;\n    ns1:byArtist <https://api.spotify.com/v1/artists/2hmDAP9qrP22L93Pbq7FWM> ;\n    ns1:duration \"PT259.73S\" ;\n    ns1:inAlbum <https://api.spotify.com/v1/albums/0L83zL3xIZnFFJ1digfx81> ;\n    ns1:startTime \"2021-02-05T15:31:28.883Z\" .\n\n<https://api.spotify.com/v1/tracks/4xDEZDYPERKrpCDOX1CYtw> a ns1:MusicRecording ;\n    ns2:name \"Tokyo Cruise\" ;\n    ns1:byArtist <https://api.spotify.com/v1/artists/6N4HlHINMvoTyAL0yhBUCk> ;\n    ns1:duration \"PT182.5S\" ;\n    ns1:inAlbum <https://api.spotify.com/v1/albums/1aPwMGBil3rebqqzZRE2rI> ;\n    ns1:startTime \"2021-02-05T15:18:37.227Z\" .\n\n<https://api.spotify.com/v1/tracks/51chgK66fLkr1TO3zRYt79> a ns1:MusicRecording ;\n    ns2:name \"Beaches\" ;\n    ns1:byArtist <https://api.spotify.com/v1/artists/6QAXPFWafsrhltnhogrQ1P> ;\n    ns1:duration \"PT333.77S\" ;\n    ns1:inAlbum <https://api.spotify.com/v1/albums/08gPFJoIssAEoQg8FejdQx> ;\n    ns1:startTime \"2021-02-05T14:54:30.638Z\" .\n\n<https://api.spotify.com/v1/tracks/51glOQHf2CWjiT63TMt98H> a ns1:MusicRecording ;\n    ns2:name \"100 reasons\" ;\n    ns1:byArtist <https://api.spotify.com/v1/artists/2LCFqtl3a3rO8KEcIPAUrX> ;\n    ns1:duration \"PT375.0S\" ;\n    ns1:inAlbum <https://api.spotify.com/v1/albums/3wHEG6d2ZaQwtYvAw00A7W> ;\n    ns1:startTime \"2021-02-05T14:10:13.285Z\" .\n\n<https://api.spotify.com/v1/tracks/53JDt87PdZrBSA3gN95t1Y> a ns1:MusicRecording ;\n    ns2:name \"In Love\" ;\n    ns1:byArtist <https://api.spotify.com/v1/artists/1Rwokb27xxRMZC0zWA8i6C> ;\n    ns1:duration \"PT205.18S\" ;\n    ns1:inAlbum <https://api.spotify.com/v1/albums/3yrC1dGWFi1YccEH8Ceua6> ;\n    ns1:startTime \"2021-02-05T18:42:56.845Z\" .\n\n<https://api.spotify.com/v1/tracks/5A6P4j1vzChOHQj7rdZndJ> a ns1:MusicRecording ;\n    ns2:name \"Brasil\" ;\n    ns1:byArtist <https://api.spotify.com/v1/artists/3hZaebXqrD5crmyMP2x1qa> ;\n    ns1:duration \"PT169.0S\" ;\n    ns1:inAlbum <https://api.spotify.com/v1/albums/6ZMy4Xs6u1k9x5Fm7oRcrI> ;\n    ns1:startTime \"2021-02-05T14:17:55.882Z\" .\n\n<https://api.spotify.com/v1/tracks/5M1AHTCbv994PaCdqtsnHw> a ns1:MusicRecording ;\n    ns2:name \"No Place\" ;\n    ns1:byArtist <https://api.spotify.com/v1/artists/4CDA4KlCgj3KRnis6eX0Dq> ;\n    ns1:duration \"PT300.45S\" ;\n    ns1:inAlbum <https://api.spotify.com/v1/albums/5iaCxLWuC5xVuDPXHDzxi1> ;\n    ns1:startTime \"2021-02-05T18:27:19.232Z\" .\n\n<https://api.spotify.com/v1/tracks/5TWqVFny18hcHwWtB92ZXb> a ns1:MusicRecording ;\n    ns2:name \"Tantalising Love\" ;\n    ns1:byArtist <https://api.spotify.com/v1/artists/484XUhtQMjzHZhvU0FrjCX> ;\n    ns1:duration \"PT341.45S\" ;\n    ns1:inAlbum <https://api.spotify.com/v1/albums/6ico5PGAFZLyLU88XRrwHj> ;\n    ns1:startTime \"2021-02-05T18:22:18.720Z\" .\n\n<https://api.spotify.com/v1/tracks/5gcjlg6RtrnSz5mtk3kvi0> a ns1:MusicRecording ;\n    ns2:name \"Ode to Ipse\" ;\n    ns1:byArtist <https://api.spotify.com/v1/artists/6AwGe2F49hD3ANXvmOwqQB> ;\n    ns1:duration \"PT339.0S\" ;\n    ns1:inAlbum <https://api.spotify.com/v1/albums/5Ki88XhcuWUk8WlXmaKrwS> ;\n    ns1:startTime \"2021-02-05T15:24:16.006Z\" .\n\n<https://api.spotify.com/v1/tracks/6E12A1iLAqjjOUlEjTY78N> a ns1:MusicRecording ;\n    ns2:name \"SDDS\" ;\n    ns1:byArtist <https://api.spotify.com/v1/artists/1lEBJGJgdoevi1Clv9CqLT> ;\n    ns1:duration \"PT215.08S\" ;\n    ns1:inAlbum <https://api.spotify.com/v1/albums/1JuzzZ8wwu2sNaq6cI5YIc> ;\n    ns1:startTime \"2021-02-05T14:35:48.252Z\" .\n\n<https://api.spotify.com/v1/tracks/6EV84s3YMoU6prWqHlMD4X> a ns1:MusicRecording ;\n    ns2:name \"Doorsteps\" ;\n    ns1:byArtist <https://api.spotify.com/v1/artists/39ZQx0618UYVBgGTDOJ2ds> ;\n    ns1:duration \"PT264.98S\" ;\n    ns1:inAlbum <https://api.spotify.com/v1/albums/7cMaOzUsjQwkkZfOcpIuPz> ;\n    ns1:startTime \"2021-02-05T15:15:34.563Z\" .\n\n<https://api.spotify.com/v1/tracks/6FNAdNwaknBVkg4u7CSMTp> a ns1:MusicRecording ;\n    ns2:name \"Undergrowth\" ;\n    ns1:byArtist <https://api.spotify.com/v1/artists/3dExis8rqyN3OsHSKuHU53> ;\n    ns1:duration \"PT173.0S\" ;\n    ns1:inAlbum <https://api.spotify.com/v1/albums/2orPEElJwKWjmr4DPEhdjB> ;\n    ns1:startTime \"2021-02-05T15:27:09.066Z\" .\n\n<https://api.spotify.com/v1/tracks/6l8Er0cKQkgreamtwBkr2j> a ns1:MusicRecording ;\n    ns2:name \"Raining Outside\" ;\n    ns1:byArtist <https://api.spotify.com/v1/artists/03CK8N8CSSPg3ZFEmkGCpR> ;\n    ns1:duration \"PT272.7S\" ;\n    ns1:inAlbum <https://api.spotify.com/v1/albums/52N4nKcwVerlZ2xgFJurJa> ;\n    ns1:startTime \"2021-02-05T14:03:58.393Z\" .\n\n<https://api.spotify.com/v1/tracks/6vhVeoN1qJNJfdiIJAK4A9> a ns1:MusicRecording ;\n    ns2:name \"Kokiri Forest\" ;\n    ns1:byArtist <https://api.spotify.com/v1/artists/6BmSO09b1cngqE8X2SEygU> ;\n    ns1:duration \"PT381.66S\" ;\n    ns1:inAlbum <https://api.spotify.com/v1/albums/0V7YCgKiVWctiHpxc4Hmv1> ;\n    ns1:startTime \"2021-02-05T14:24:17.599Z\" .\n\n<https://api.spotify.com/v1/tracks/733FlhpmdWPp9YRbGkqvrq> a ns1:MusicRecording ;\n    ns2:name \"Signals\" ;\n    ns1:byArtist <https://api.spotify.com/v1/artists/2Cr2rpr7lav8wbSsvULw9u> ;\n    ns1:duration \"PT324.36S\" ;\n    ns1:inAlbum <https://api.spotify.com/v1/albums/1BDRViteUf8jflNGqrW08c> ;\n    ns1:startTime \"2021-02-05T17:42:46.504Z\" .\n\n<https://api.spotify.com/v1/tracks/779tRHhEwIEWJuRlhQ2o7W> a ns1:MusicRecording ;\n    ns2:name \"The Last Thing I Know\" ;\n    ns1:byArtist <https://api.spotify.com/v1/artists/6mU76NVrD4mcmA5WIoiUMV> ;\n    ns1:duration \"PT364.97S\" ;\n    ns1:inAlbum <https://api.spotify.com/v1/albums/7Bfbg7EUBfXY3NLR7XJd4A> ;\n    ns1:startTime \"2021-02-05T17:07:27.947Z\" .\n\n<https://api.spotify.com/v1/tracks/7FZhZpPpfw9j8IDuqxtF8s> a ns1:MusicRecording ;\n    ns2:name \"argentin\" ;\n    ns1:byArtist <https://api.spotify.com/v1/artists/3hZaebXqrD5crmyMP2x1qa> ;\n    ns1:duration \"PT173.0S\" ;\n    ns1:inAlbum <https://api.spotify.com/v1/albums/6K99lHPJIPlR62rMl0RvLN> ;\n    ns1:startTime \"2021-02-05T17:19:37.414Z\" .\n\n<https://api.spotify.com/v1/tracks/7LNI08YZRk67lg7KaPABfg> a ns1:MusicRecording ;\n    ns2:name \"Crazy Dream\" ;\n    ns1:byArtist <https://api.spotify.com/v1/artists/1uiEZYehlNivdK3iQyAbye> ;\n    ns1:duration \"PT212.04S\" ;\n    ns1:inAlbum <https://api.spotify.com/v1/albums/3QaujyUDkMoPwWLF79ibGC> ;\n    ns1:startTime \"2021-02-05T14:58:35.743Z\" .\n\n<https://api.spotify.com/v1/tracks/7fxcNshGvCxlNMGHI1GmCx> a ns1:MusicRecording ;\n    ns2:name \"Waiting\" ;\n    ns1:byArtist <https://api.spotify.com/v1/artists/2ffi5jpoJUZy24fTeNsFMa> ;\n    ns1:duration \"PT412.81S\" ;\n    ns1:inAlbum <https://api.spotify.com/v1/albums/0zGcOpLSpmGTJUcHRrNUJz> ;\n    ns1:startTime \"2021-02-05T14:48:57.348Z\" .\n\n<https://api.spotify.com/v1/tracks/7huxPaTEgoKQNmCQn8savN> a ns1:MusicRecording ;\n    ns2:name \"By & Bye\" ;\n    ns1:byArtist <https://api.spotify.com/v1/artists/2ffi5jpoJUZy24fTeNsFMa> ;\n    ns1:duration \"PT417.32S\" ;\n    ns1:inAlbum <https://api.spotify.com/v1/albums/2vQ4QiufVpOSAm8Ze8qicd> ;\n    ns1:startTime \"2021-02-05T17:26:34.627Z\" .\n\n<https://api.spotify.com/v1/tracks/7uxQOkjxPwBd8gU1igvYlh> a ns1:MusicRecording ;\n    ns2:name \"Highball\" ;\n    ns1:byArtist <https://api.spotify.com/v1/artists/5wwnitxvqbrtiGk3QW3BuN> ;\n    ns1:duration \"PT457.85S\" ;\n    ns1:inAlbum <https://api.spotify.com/v1/albums/4uDqyUV4prv6jdBwIVaXaY> ;\n    ns1:startTime \"2021-02-05T16:50:57.444Z\" .\n\n<https://api.spotify.com/v1/albums/08gPFJoIssAEoQg8FejdQx> a ns1:MusicAlbum ;\n    ns2:name \"Beaches\" .\n\n<https://api.spotify.com/v1/albums/0L83zL3xIZnFFJ1digfx81> a ns1:MusicAlbum ;\n    ns2:name \"Fluid Motion Remixed\" .\n\n<https://api.spotify.com/v1/albums/0NGgNO6HINijyLI7aHreKP> a ns1:MusicAlbum ;\n    ns2:name \"Mount Liberation Unlimited\" .\n\n<https://api.spotify.com/v1/albums/0V7YCgKiVWctiHpxc4Hmv1> a ns1:MusicAlbum ;\n    ns2:name \"Mind's Eye\" .\n\n<https://api.spotify.com/v1/albums/0VYerxRUVXPp3qoOD5fdY0> a ns1:MusicAlbum ;\n    ns2:name \"Loose Wood\" .\n\n<https://api.spotify.com/v1/albums/0j49Rsgfpn2Q7RBQpZDssK> a ns1:MusicAlbum ;\n    ns2:name \"We Should Chill On The Windowsill More\" .\n\n<https://api.spotify.com/v1/albums/0nzWdvYW00qqh8N6hIWUh5> a ns1:MusicAlbum ;\n    ns2:name \"Fry\" .\n\n<https://api.spotify.com/v1/albums/0v5BqH7RQlIuJIWfQCl1Bp> a ns1:MusicAlbum ;\n    ns2:name \"Settle (Deluxe Version)\" .\n\n<https://api.spotify.com/v1/albums/0wlICzORLGl8yJwnc8q74I> a ns1:MusicAlbum ;\n    ns2:name \"All My Life 2\" .\n\n<https://api.spotify.com/v1/albums/0zGcOpLSpmGTJUcHRrNUJz> a ns1:MusicAlbum ;\n    ns2:name \"Waiting\" .\n\n<https://api.spotify.com/v1/albums/1BDRViteUf8jflNGqrW08c> a ns1:MusicAlbum ;\n    ns2:name \"Signals EP\" .\n\n<https://api.spotify.com/v1/albums/1JuzzZ8wwu2sNaq6cI5YIc> a ns1:MusicAlbum ;\n    ns2:name \"SDDS\" .\n\n<https://api.spotify.com/v1/albums/1aPwMGBil3rebqqzZRE2rI> a ns1:MusicAlbum ;\n    ns2:name \"Tokyo Cruise\" .\n\n<https://api.spotify.com/v1/albums/2KIm32RanAPzrPvXryYEKP> a ns1:MusicAlbum ;\n    ns2:name \"Back To My Place\" .\n\n<https://api.spotify.com/v1/albums/2R2QgJvFYCc1WFm3hdkVGy> a ns1:MusicAlbum ;\n    ns2:name \"Melophrenia\" .\n\n<https://api.spotify.com/v1/albums/2fRww4IqAwrNEEyt5P6ww8> a ns1:MusicAlbum ;\n    ns2:name \"Jus' Tracks\" .\n\n<https://api.spotify.com/v1/albums/2orPEElJwKWjmr4DPEhdjB> a ns1:MusicAlbum ;\n    ns2:name \"Undergrowth\" .\n\n<https://api.spotify.com/v1/albums/2vQ4QiufVpOSAm8Ze8qicd> a ns1:MusicAlbum ;\n    ns2:name \"By & Bye\" .\n\n<https://api.spotify.com/v1/albums/2wMUKeM1ayYSGd47HNfqlU> a ns1:MusicAlbum ;\n    ns2:name \"Super Solid (Radio Edit)\" .\n\n<https://api.spotify.com/v1/albums/3HELUMHz9zL4T3BnwrXiR1> a ns1:MusicAlbum ;\n    ns2:name \"Hunch Music\" .\n\n<https://api.spotify.com/v1/albums/3QaujyUDkMoPwWLF79ibGC> a ns1:MusicAlbum ;\n    ns2:name \"Crazy Dream\" .\n\n<https://api.spotify.com/v1/albums/3UvJsEVuPqGrby7DWg51EE> a ns1:MusicAlbum ;\n    ns2:name \"Blauer Montag\" .\n\n<https://api.spotify.com/v1/albums/3Vp8THgUHUsYgoXSfqS2Y2> a ns1:MusicAlbum ;\n    ns2:name \"Back To New Pt. 2\" .\n\n<https://api.spotify.com/v1/albums/3wHEG6d2ZaQwtYvAw00A7W> a ns1:MusicAlbum ;\n    ns2:name \"lo-fi_house.zip\" .\n\n<https://api.spotify.com/v1/albums/3yrC1dGWFi1YccEH8Ceua6> a ns1:MusicAlbum ;\n    ns2:name \"Let's Go Out\" .\n\n<https://api.spotify.com/v1/albums/43cvYJuidCljY6ZCiXDnwr> a ns1:MusicAlbum ;\n    ns2:name \"Spaven x Sandunes\" .\n\n<https://api.spotify.com/v1/albums/4UMS5bOf9IoRADzVknv97n> a ns1:MusicAlbum ;\n    ns2:name \"Retrieval EP\" .\n\n<https://api.spotify.com/v1/albums/4dhhfLFqDJC3aWsKwnbF4c> a ns1:MusicAlbum ;\n    ns2:name \"Dawn\" .\n\n<https://api.spotify.com/v1/albums/4uDqyUV4prv6jdBwIVaXaY> a ns1:MusicAlbum ;\n    ns2:name \"Ego\" .\n\n<https://api.spotify.com/v1/albums/52N4nKcwVerlZ2xgFJurJa> a ns1:MusicAlbum ;\n    ns2:name \"Mythic Music\" .\n\n<https://api.spotify.com/v1/albums/5Ki88XhcuWUk8WlXmaKrwS> a ns1:MusicAlbum ;\n    ns2:name \"Ode to Ipse\" .\n\n<https://api.spotify.com/v1/albums/5Wk4QqwVqO9vnLzUBPO5JJ> a ns1:MusicAlbum ;\n    ns2:name \"On Birdland\" .\n\n<https://api.spotify.com/v1/albums/5WlAN6SEos2wWvIDcccanh> a ns1:MusicAlbum ;\n    ns2:name \"Invisible Man\" .\n\n<https://api.spotify.com/v1/albums/5X1FLjENnnSwkP0Vc3WYBX> a ns1:MusicAlbum ;\n    ns2:name \"Faded (Sandunes Remix) (feat. Jordan Rakei)\" .\n\n<https://api.spotify.com/v1/albums/5bugZyXwq0v41GiNEboN5S> a ns1:MusicAlbum ;\n    ns2:name \"Perspectives\" .\n\n<https://api.spotify.com/v1/albums/5iaCxLWuC5xVuDPXHDzxi1> a ns1:MusicAlbum ;\n    ns2:name \"Balance\" .\n\n<https://api.spotify.com/v1/albums/62AyMPxUSqDlAYCdrZ46CV> a ns1:MusicAlbum ;\n    ns2:name \"Pastis\" .\n\n<https://api.spotify.com/v1/albums/6FihE91MUfN7iwUsAs3t76> a ns1:MusicAlbum ;\n    ns2:name \"Bells Creek Road\" .\n\n<https://api.spotify.com/v1/albums/6K99lHPJIPlR62rMl0RvLN> a ns1:MusicAlbum ;\n    ns2:name \"argentin\" .\n\n<https://api.spotify.com/v1/albums/6ZMy4Xs6u1k9x5Fm7oRcrI> a ns1:MusicAlbum ;\n    ns2:name \"Brasil\" .\n\n<https://api.spotify.com/v1/albums/6ico5PGAFZLyLU88XRrwHj> a ns1:MusicAlbum ;\n    ns2:name \"Lo-Fi Explorations\" .\n\n<https://api.spotify.com/v1/albums/6t4sfAMZKZ3ik8VqhruGvc> a ns1:MusicAlbum ;\n    ns2:name \"Mellow Mornings\" .\n\n<https://api.spotify.com/v1/albums/7Bfbg7EUBfXY3NLR7XJd4A> a ns1:MusicAlbum ;\n    ns2:name \"Days Go By\" .\n\n<https://api.spotify.com/v1/albums/7EfwWRHKY93vqZGp3UsZJ9> a ns1:MusicAlbum ;\n    ns2:name \"Useful\" .\n\n<https://api.spotify.com/v1/albums/7bGOZvIRLW5Lie8eJv1tRb> a ns1:MusicAlbum ;\n    ns2:name \"Beats On Boat: Lunchbag\" .\n\n<https://api.spotify.com/v1/albums/7cMaOzUsjQwkkZfOcpIuPz> a ns1:MusicAlbum ;\n    ns2:name \"Beats On Boat: FloFilz\" .\n\n<https://api.spotify.com/v1/albums/7poItoG0PxLsKHGfmHarWW> a ns1:MusicAlbum ;\n    ns2:name \"King Size\" .\n\n<https://api.spotify.com/v1/albums/7q2toX28pVjzZi9IhFkou3> a ns1:MusicAlbum ;\n    ns2:name \"The Small Room Sessions\" .\n\n<https://api.spotify.com/v1/artists/03CK8N8CSSPg3ZFEmkGCpR> a ns1:MusicGroup ;\n    ns2:name \"Earth Boys\" .\n\n<https://api.spotify.com/v1/artists/0DivrXwznd1NcQbRh86cQO> a ns1:MusicGroup ;\n    ns2:name \"Contours\" .\n\n<https://api.spotify.com/v1/artists/0cKckxKy6R6LfDXp7TroK8> a ns1:MusicGroup ;\n    ns2:name \"The Paradox\" .\n\n<https://api.spotify.com/v1/artists/0wpNQXkeGHEGwq5oQ5rKJo> a ns1:MusicGroup ;\n    ns2:name \"Lunchbag\" .\n\n<https://api.spotify.com/v1/artists/1Rwokb27xxRMZC0zWA8i6C> a ns1:MusicGroup ;\n    ns2:name \"Bella Boo\" .\n\n<https://api.spotify.com/v1/artists/1jp32pJP909ivcVl5l9aUZ> a ns1:MusicGroup ;\n    ns2:name \"Pulsinger & Irl\" .\n\n<https://api.spotify.com/v1/artists/1lEBJGJgdoevi1Clv9CqLT> a ns1:MusicGroup ;\n    ns2:name \"Branko\" .\n\n<https://api.spotify.com/v1/artists/1uiEZYehlNivdK3iQyAbye> a ns1:MusicGroup ;\n    ns2:name \"Tom Misch\" .\n\n<https://api.spotify.com/v1/artists/2LCFqtl3a3rO8KEcIPAUrX> a ns1:MusicGroup ;\n    ns2:name \"kemt\" .\n\n<https://api.spotify.com/v1/artists/2NArTWfXN317Ok1Ale3xkX> a ns1:MusicGroup ;\n    ns2:name \"AceMo\" .\n\n<https://api.spotify.com/v1/artists/2NtGuhjeGjxetrptLSQHV0> a ns1:MusicGroup ;\n    ns2:name \"upper class\" .\n\n<https://api.spotify.com/v1/artists/2TIVoSbNoE1A9ihHlRRfpP> a ns1:MusicGroup ;\n    ns2:name \"Jad & The\" .\n\n<https://api.spotify.com/v1/artists/2XHa2Sy9IYid9hnQ2YmtGl> a ns1:MusicGroup ;\n    ns2:name \"Shopan\" .\n\n<https://api.spotify.com/v1/artists/2hmDAP9qrP22L93Pbq7FWM> a ns1:MusicGroup ;\n    ns2:name \"30/70\" .\n\n<https://api.spotify.com/v1/artists/39ZQx0618UYVBgGTDOJ2ds> a ns1:MusicGroup ;\n    ns2:name \"FloFilz\" .\n\n<https://api.spotify.com/v1/artists/39ywlwtGw8RTGobakgb11L> a ns1:MusicGroup ;\n    ns2:name \"Kruder & Dorfmeister\" .\n\n<https://api.spotify.com/v1/artists/3dExis8rqyN3OsHSKuHU53> a ns1:MusicGroup ;\n    ns2:name \"Kappa Mountain\" .\n\n<https://api.spotify.com/v1/artists/3yg8VEfEzpr8T9NkiEsycS> a ns1:MusicGroup ;\n    ns2:name \"Jitwam\" .\n\n<https://api.spotify.com/v1/artists/484XUhtQMjzHZhvU0FrjCX> a ns1:MusicGroup ;\n    ns2:name \"Alex Cortiz\" .\n\n<https://api.spotify.com/v1/artists/4CDA4KlCgj3KRnis6eX0Dq> a ns1:MusicGroup ;\n    ns2:name \"Sumluv\" .\n\n<https://api.spotify.com/v1/artists/4Hl6TEQAFgH0XrZq4f8okX> a ns1:MusicGroup ;\n    ns2:name \"Session Victim\" .\n\n<https://api.spotify.com/v1/artists/4canJqeqGUKVyHKOpaDiol> a ns1:MusicGroup ;\n    ns2:name \"Damian Rausch\" .\n\n<https://api.spotify.com/v1/artists/4i2Ey9xknZmz8QQXtLzAN7> a ns1:MusicGroup ;\n    ns2:name \"DJ Aakmael\" .\n\n<https://api.spotify.com/v1/artists/5Y3oDPCnbx1hf4MWLvK2Tf> a ns1:MusicGroup ;\n    ns2:name \"Fluxion\" .\n\n<https://api.spotify.com/v1/artists/5wwnitxvqbrtiGk3QW3BuN> a ns1:MusicGroup ;\n    ns2:name \"COMPUTER DATA\" .\n\n<https://api.spotify.com/v1/artists/5zVhnqOyQesaJrFSC0wShT> a ns1:MusicGroup ;\n    ns2:name \"Mount Liberation Unlimited\" .\n\n<https://api.spotify.com/v1/artists/67pW04a6jpdQR2yWqjcfxs> a ns1:MusicGroup ;\n    ns2:name \"Bluestaeb\" .\n\n<https://api.spotify.com/v1/artists/6AwGe2F49hD3ANXvmOwqQB> a ns1:MusicGroup ;\n    ns2:name \"Black Loops\" .\n\n<https://api.spotify.com/v1/artists/6BmSO09b1cngqE8X2SEygU> a ns1:MusicGroup ;\n    ns2:name \"Hugo Mari\" .\n\n<https://api.spotify.com/v1/artists/6N4HlHINMvoTyAL0yhBUCk> a ns1:MusicGroup ;\n    ns2:name \"Saib\" .\n\n<https://api.spotify.com/v1/artists/6QAXPFWafsrhltnhogrQ1P> a ns1:MusicGroup ;\n    ns2:name \"Jesper Ryom\" .\n\n<https://api.spotify.com/v1/artists/6eHZuPnEu4u6l0pgV4yCEG> a ns1:MusicGroup ;\n    ns2:name \"Qnete\" .\n\n<https://api.spotify.com/v1/artists/6mU76NVrD4mcmA5WIoiUMV> a ns1:MusicGroup ;\n    ns2:name \"Daniel Steinberg\" .\n\n<https://api.spotify.com/v1/artists/6nS5roXSAGhTGr34W6n7Et> a ns1:MusicGroup ;\n    ns2:name \"Disclosure\" .\n\n<https://api.spotify.com/v1/artists/6pJY5At9SiMpAOBrw9YosS> a ns1:MusicGroup ;\n    ns2:name \"Folamour\" .\n\n<https://api.spotify.com/v1/artists/6ttw8B6m9uBsCjZtIm4NAN> a ns1:MusicGroup ;\n    ns2:name \"Ayzon\" .\n\n<https://api.spotify.com/v1/artists/6uElH4moADg7AGB3DCGOwy> a ns1:MusicGroup ;\n    ns2:name \"Hunee\" .\n\n<https://api.spotify.com/v1/artists/79GRHH0mBDlVsB9vu559s8> a ns1:MusicGroup ;\n    ns2:name \"DJ Balaton\" .\n\n<https://api.spotify.com/v1/artists/7aFxKbiPGJHNrcrGuKW5X9> a ns1:MusicGroup ;\n    ns2:name \"Tilman\" .\n\n<https://api.spotify.com/v1/artists/7rQKvsWUOJgXmInx2JuaXj> a ns1:MusicGroup ;\n    ns2:name \"Felipe Gordon\" .\n\n<https://api.spotify.com/v1/artists/1vPmwfwytzhoK1cXXWzQWI> a ns1:MusicGroup ;\n    ns2:name \"Richard Spaven\" .\n\n<https://api.spotify.com/v1/artists/2Cr2rpr7lav8wbSsvULw9u> a ns1:MusicGroup ;\n    ns2:name \"Goddard\" .\n\n<https://api.spotify.com/v1/artists/2ffi5jpoJUZy24fTeNsFMa> a ns1:MusicGroup ;\n    ns2:name \"Hidden Spheres\" .\n\n<https://api.spotify.com/v1/artists/3hZaebXqrD5crmyMP2x1qa> a ns1:MusicGroup ;\n    ns2:name \"blnkspc_\" .\n\n\n"
     ]
    }
   ],
   "source": [
    "def add_track_to_graph(graph, item):\n",
    "    track = item['track']\n",
    "    track_href = URIRef(track['href'])\n",
    "    track_name = Literal(track['name'])\n",
    "    track_duration = Literal(ms_to_iso8064_duration(track['duration_ms']))\n",
    "    track_played_at = Literal(item['played_at'])\n",
    "    artist_href = URIRef(track['artists'][0]['href'])\n",
    "    artist_name = Literal(track['artists'][0]['name'])\n",
    "    album_href = URIRef(track['album']['href'])\n",
    "    album_name = Literal(track['album']['name'])\n",
    "\n",
    "    graph.add((track_href, RDF.type, SDO.MusicRecording))\n",
    "    graph.add((track_href, FOAF.name, track_name))\n",
    "    graph.add((track_href, SDO.duration, track_duration))\n",
    "    graph.add((track_href, SDO.byArtist, artist_href))\n",
    "    graph.add((track_href, SDO.inAlbum, album_href))\n",
    "    graph.add((track_href, SDO.startTime, track_played_at))\n",
    "    # graph.add((track_href, SDO.endTime, Literal(played_at))) # startTime + duration\n",
    "    graph.add((artist_href, RDF.type, SDO.MusicGroup))\n",
    "    graph.add((artist_href, FOAF.name, artist_name))\n",
    "    graph.add((album_href, RDF.type, SDO.MusicAlbum))\n",
    "    graph.add((album_href, FOAF.name, album_name))\n",
    "\n",
    "\n",
    "print(g.serialize(format=\"turtle\").decode(\"utf-8\"))"
   ]
  },
  {
   "cell_type": "code",
   "execution_count": 139,
   "metadata": {},
   "outputs": [
    {
     "output_type": "stream",
     "name": "stdout",
     "text": [
      "\n"
     ]
    }
   ],
   "source": [
    "import requests\n",
    "\n",
    "# curl -X PUT -H \"Content-Type: text/turtle\" \\\n",
    "#   -d \"<ex:s> <ex:p> <ex:o>.\" \\\n",
    "#   http://localhost:3000/myfile.ttl\n",
    "def put_graph(graph, resource_name, address = 'http://localhost:3000/solid-spotify/'):\n",
    "    headers = {\"content-type\": \"text/turtle\"}\n",
    "    url = f'{address}{resource_name}'\n",
    "    data = graph.serialize(format=\"turtle\").decode(\"utf-8\")\n",
    "\n",
    "    response = requests.put(url, headers = headers, data = data)\n",
    "\n",
    "print(response.text)"
   ]
  },
  {
   "cell_type": "code",
   "execution_count": 140,
   "metadata": {},
   "outputs": [],
   "source": [
    "put_graph(g, 'recent_tracks-2.ttl')"
   ]
  }
 ]
}