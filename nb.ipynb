{
 "metadata": {
  "language_info": {
   "codemirror_mode": {
    "name": "ipython",
    "version": 3
   },
   "file_extension": ".py",
   "mimetype": "text/x-python",
   "name": "python",
   "nbconvert_exporter": "python",
   "pygments_lexer": "ipython3",
   "version": "3.8.0-final"
  },
  "orig_nbformat": 2,
  "kernelspec": {
   "name": "python3",
   "display_name": "Python 3.8.0 64-bit ('3.8.0')",
   "metadata": {
    "interpreter": {
     "hash": "f90210bf2d17d0292a6cdd5024018b6fe52d30c08a71b180047fc1e677d12697"
    }
   }
  }
 },
 "nbformat": 4,
 "nbformat_minor": 2,
 "cells": [
  {
   "cell_type": "code",
   "execution_count": 1,
   "metadata": {},
   "outputs": [
    {
     "output_type": "stream",
     "name": "stdout",
     "text": [
      "http://www.w3.org/ns/csvw#seeAlso\nhttp://purl.org/dc/elements/1.1/seeAlso\nhttp://www.w3.org/ns/dcat#seeAlso\nhttp://purl.org/dc/terms/seeAlso\nhttp://www.w3.org/ns/odrl/2/seeAlso\nhttp://www.w3.org/ns/org#seeAlso\nhttp://www.w3.org/2002/07/owl#seeAlso\nhttp://www.w3.org/ns/dx/prof/seeAlso\nhttp://www.w3.org/2000/01/rdf-schema#seeAlso\nhttps://schema.org/seeAlso\nhttp://www.w3.org/ns/shacl#seeAlso\nhttp://www.w3.org/ns/ssn/seeAlso\nhttp://www.w3.org/ns/sosa/seeAlso\nhttp://www.w3.org/2006/time#seeAlso\nhttp://rdfs.org/ns/void#seeAlso\nhttp://www.w3.org/2001/XMLSchema#seeAlso\n"
     ]
    }
   ],
   "source": [
    "# Available namespaces\n",
    "\n",
    "from rdflib.namespace import CSVW, DC, DCAT, DCTERMS, DOAP, FOAF, ODRL2, ORG, OWL, PROF, PROV, RDF, RDFS, SDO, SH, SKOS, SOSA, SSN, TIME, VOID, XMLNS, XSD\n",
    "\n",
    "print(CSVW.seeAlso)\n",
    "print(DC.seeAlso)\n",
    "print(DCAT.seeAlso)\n",
    "print(DCTERMS.seeAlso)\n",
    "# print(DOAP.seeAlso)\n",
    "# print(FOAF.seeAlso)\n",
    "print(ODRL2.seeAlso)\n",
    "print(ORG.seeAlso)\n",
    "print(OWL.seeAlso)\n",
    "print(PROF.seeAlso)\n",
    "# print(PROV.seeAlso)\n",
    "# print(RDF.seeAlso)\n",
    "print(RDFS.seeAlso)\n",
    "print(SDO.seeAlso)\n",
    "print(SH.seeAlso)\n",
    "# print(SKOS.seeAlso)\n",
    "print(SOSA.seeAlso)\n",
    "print(SSN.seeAlso)\n",
    "print(TIME.seeAlso)\n",
    "print(VOID.seeAlso)\n",
    "# print(XMLNS.seeAlso)\n",
    "print(XSD.seeAlso)"
   ]
  },
  {
   "cell_type": "code",
   "execution_count": 11,
   "metadata": {},
   "outputs": [],
   "source": [
    "from dotenv import load_dotenv\n",
    "load_dotenv()\n",
    "import os\n",
    "import spotipy\n",
    "from spotipy.oauth2 import SpotifyOAuth\n",
    "\n",
    "SOLID_POD_URL = 'http://localhost:3000/'\n",
    "CLIENT_ID=os.getenv(\"SPOTIFY_CLIENT_ID\")\n",
    "CLIENT_SECRET=os.getenv(\"SPOTIFY_CLIENT_SECRET\")\n",
    "REDIRECT_URI=\"http://localhost:5566\"\n",
    "SCOPE = \"user-library-read user-read-currently-playing streaming user-read-playback-state user-read-recently-played\"\n",
    "\n",
    "sp = spotipy.Spotify(auth_manager=SpotifyOAuth(client_id=CLIENT_ID,\n",
    "                                               client_secret=CLIENT_SECRET,\n",
    "                                               redirect_uri=REDIRECT_URI,\n",
    "                                               scope=SCOPE))"
   ]
  },
  {
   "cell_type": "code",
   "execution_count": 3,
   "metadata": {},
   "outputs": [],
   "source": [
    "%%capture\n",
    "saved_tracks = sp.current_user_saved_tracks(50)\n",
    "for idx, item in enumerate(saved_tracks['items']):\n",
    "    track = item['track']\n",
    "    print(idx, track['artists'][0]['name'], \" – \", track['name'])\n"
   ]
  },
  {
   "cell_type": "code",
   "execution_count": 4,
   "metadata": {},
   "outputs": [],
   "source": [
    "def ms_to_iso8064_duration(time_in_ms):\n",
    "    time_in_s = round(time_in_ms / 1000, 2)\n",
    "    return f'PT{time_in_s}S'"
   ]
  },
  {
   "source": [
    "Schema mapping\n",
    "\n",
    "```\n",
    "-----\n",
    "Track\n",
    "-----\n",
    "Context: https://schema.org/\n",
    "Type: MusicRecording\n",
    "album: MusicRecording:inAlbum\n",
    "artist: MusicRecording:byArtist\n",
    "duration: MusicRecording:duration (ISO 8601)\n",
    "\n",
    "------\n",
    "Artist\n",
    "------\n",
    "@context: https://schema.org/\n",
    "@type: MusicGroup\n",
    "name: \"Kendrick Lamar\"\n",
    "track: [\n",
    "    {\n",
    "        @type: MusicRecording\n",
    "        name: love\n",
    "    }\n",
    "]\n",
    "\n",
    "-----\n",
    "Album\n",
    "-----\n",
    "Context: https://schema.org/\n",
    "Type: MusicAlbum\n",
    "artist: MusicRecording:byArtist\n",
    "\n",
    "```\n",
    "\n",
    "| key | schema |\n",
    "| - | - |\n",
    "| played_at |  |\n",
    "| album_name | |\n",
    "| album_href | |\n",
    "| album_id | |\n",
    "| album_images | |\n",
    "| album_release_date | |\n",
    "| artists | |\n",
    "| first_artist_href | |\n",
    "| first_artist_id | |\n",
    "| first_artist_name | |\n",
    "| name | |\n",
    "| popularity |  |\n",
    "| href | subject [for track] |\n",
    "| duration_ms | duration [in ISO 8601] |"
   ],
   "cell_type": "markdown",
   "metadata": {}
  },
  {
   "cell_type": "code",
   "execution_count": 6,
   "metadata": {
    "tags": []
   },
   "outputs": [
    {
     "output_type": "stream",
     "name": "stdout",
     "text": [
      "\n\n"
     ]
    }
   ],
   "source": [
    "def add_track_to_graph(graph, item):\n",
    "    track = item['track']\n",
    "    track_href = URIRef(track['href'])\n",
    "    track_name = Literal(track['name'])\n",
    "    track_duration = Literal(ms_to_iso8064_duration(track['duration_ms']))\n",
    "    track_played_at = Literal(item['played_at'])\n",
    "    artist_href = URIRef(track['artists'][0]['href'])\n",
    "    artist_name = Literal(track['artists'][0]['name'])\n",
    "    album_href = URIRef(track['album']['href'])\n",
    "    album_name = Literal(track['album']['name'])\n",
    "\n",
    "    graph.add((track_href, RDF.type, SDO.MusicRecording))\n",
    "    graph.add((track_href, FOAF.name, track_name))\n",
    "    graph.add((track_href, SDO.duration, track_duration))\n",
    "    graph.add((track_href, SDO.byArtist, artist_href))\n",
    "    graph.add((track_href, SDO.inAlbum, album_href))\n",
    "    graph.add((track_href, SDO.startTime, track_played_at))\n",
    "    # graph.add((track_href, SDO.endTime, Literal(played_at))) # startTime + duration\n",
    "    graph.add((artist_href, RDF.type, SDO.MusicGroup))\n",
    "    graph.add((artist_href, FOAF.name, artist_name))\n",
    "    graph.add((album_href, RDF.type, SDO.MusicAlbum))\n",
    "    graph.add((album_href, FOAF.name, album_name))\n",
    "\n",
    "\n",
    "print(g.serialize(format=\"turtle\").decode(\"utf-8\"))"
   ]
  },
  {
   "cell_type": "code",
   "execution_count": 7,
   "metadata": {},
   "outputs": [],
   "source": [
    "from rdflib import Graph, URIRef, Literal\n",
    "g = Graph()\n",
    "\n",
    "last_50_tracks_played = sp.current_user_recently_played(50)\n",
    "for idx, item in enumerate(last_50_tracks_played['items']):\n",
    "    add_track_to_graph(g, item)"
   ]
  },
  {
   "cell_type": "code",
   "execution_count": 12,
   "metadata": {},
   "outputs": [],
   "source": [
    "import requests\n",
    "\n",
    "# curl -X PUT -H \"Content-Type: text/turtle\" \\\n",
    "#   -d \"<ex:s> <ex:p> <ex:o>.\" \\\n",
    "#   http://localhost:3000/myfile.ttl\n",
    "def put_graph(graph, resource_name, address = f'{SOLID_POD_URL}solid-spotify/'):\n",
    "    headers = {\"content-type\": \"text/turtle\"}\n",
    "    url = f'{address}{resource_name}'\n",
    "    data = graph.serialize(format=\"turtle\").decode(\"utf-8\")\n",
    "\n",
    "    response = requests.put(url, headers = headers, data = data)\n",
    "\n",
    "    print(response.text)"
   ]
  },
  {
   "cell_type": "code",
   "execution_count": 10,
   "metadata": {},
   "outputs": [
    {
     "output_type": "stream",
     "name": "stdout",
     "text": [
      "\n"
     ]
    }
   ],
   "source": [
    "put_graph(g, 'recent_tracks-3.ttl')"
   ]
  },
  {
   "cell_type": "code",
   "execution_count": 20,
   "metadata": {},
   "outputs": [],
   "source": [
    "class SolidClient:\n",
    "    def __init__(self):\n",
    "        pass\n",
    "\n",
    "\n",
    "    def login(self):\n",
    "        pass\n",
    "\n",
    "    \n",
    "    def fetch(url, method, headers, body):\n",
    "        pass"
   ]
  },
  {
   "cell_type": "code",
   "execution_count": 21,
   "metadata": {},
   "outputs": [],
   "source": [
    "sc = SolidClient()"
   ]
  },
  {
   "source": [
    "## How to Implement a Client\n",
    "\n",
    "* Issuer discovery using WebFinger\n",
    "* Provider Info discovery\n",
    "* Client registration\n",
    "* Authentication Request\n",
    "* Access Token Request\n",
    "* Userinfo Request\n",
    "\n"
   ],
   "cell_type": "markdown",
   "metadata": {}
  },
  {
   "cell_type": "code",
   "execution_count": 2,
   "metadata": {},
   "outputs": [],
   "source": [
    "from oic.oic import Client\n",
    "from oic.utils.authn.client import CLIENT_AUTHN_METHOD\n",
    "\n",
    "client = Client(client_authn_method=CLIENT_AUTHN_METHOD)\n"
   ]
  }
 ]
}