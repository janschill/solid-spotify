{
 "metadata": {
  "language_info": {
   "codemirror_mode": {
    "name": "ipython",
    "version": 3
   },
   "file_extension": ".py",
   "mimetype": "text/x-python",
   "name": "python",
   "nbconvert_exporter": "python",
   "pygments_lexer": "ipython3",
   "version": "3.8.0-final"
  },
  "orig_nbformat": 2,
  "kernelspec": {
   "name": "python3",
   "display_name": "Python 3.8.0 64-bit",
   "metadata": {
    "interpreter": {
     "hash": "f90210bf2d17d0292a6cdd5024018b6fe52d30c08a71b180047fc1e677d12697"
    }
   }
  }
 },
 "nbformat": 4,
 "nbformat_minor": 2,
 "cells": [
  {
   "cell_type": "code",
   "execution_count": 1,
   "metadata": {},
   "outputs": [],
   "source": [
    "from dotenv import load_dotenv\n",
    "load_dotenv()\n",
    "import os\n",
    "import spotipy\n",
    "from spotipy.oauth2 import SpotifyOAuth\n",
    "\n",
    "CLIENT_ID=os.getenv(\"CLIENT_ID\")\n",
    "CLIENT_SECRET=os.getenv(\"CLIENT_SECRET\")\n",
    "REDIRECT_URI=\"http://localhost:5566\"\n",
    "SCOPE = \"user-library-read user-read-currently-playing streaming user-read-playback-state user-read-recently-played\"\n",
    "\n",
    "sp = spotipy.Spotify(auth_manager=SpotifyOAuth(client_id=CLIENT_ID,\n",
    "                                               client_secret=CLIENT_SECRET,\n",
    "                                               redirect_uri=REDIRECT_URI,\n",
    "                                               scope=SCOPE))"
   ]
  },
  {
   "cell_type": "code",
   "execution_count": 2,
   "metadata": {},
   "outputs": [
    {
     "output_type": "stream",
     "name": "stdout",
     "text": [
      "0 Tom Misch  –  Crazy Dream\n1 Acid Pauli  –  Ahmed\n2 Ariel Pink  –  Baby\n3 KOKOROKO  –  Abusey Junction\n4 Khruangbin  –  Dearest Alfred (MyJoy)\n5 Los Tucanes De Tijuana  –  El Tucanazo\n6 SZA  –  Good Days\n7 Leykenda  –  Anxiety - Edit\n8 Paige  –  Losing Control\n9 Nicolas Jaar  –  Mi Mujer\n10 Kasper Bjørke  –  Heaven - Nicolas Jaar Remix\n11 LJ MASE  –  Memories\n12 Sido  –  Schono ke\n13 BHZ  –  Nelly\n14 JACKBOYS  –  GATTI\n15 Drake  –  Time Flies\n16 Johnny Nash  –  I Can See Clearly Now - Edit\n17 Curtis Harding  –  On And On\n18 slowthai  –  feel away (feat. James Blake & Mount Kimbie)\n19 slowthai  –  nhs\n20 slowthai  –  MAZZA (feat. A$AP Rocky)\n21 Bausa  –  Centre Court\n22 Miksu / Macloud  –  Lonely\n23 Luciano  –  SUICIDE DOORS\n24 Ufo361  –  7\n25 Samra  –  Lost (feat. TOPIC42)\n26 Benal  –  Tænker Lidt På dig (feat. Wads.png)\n27 Apache 207  –  Angst\n28 James Brown  –  The Payback\n29 RÜFÜS DU SOL  –  Innerbloom\n30 Queen  –  Don't Stop Me Now - Remastered 2011\n31 Citybois  –  Sig Mig\n32 Jay Electronica  –  Ghost Of Soulja Slim\n33 Jay Electronica  –  A.P.I.D.T.A.\n34 Dean Martin  –  Tik-A-Tee, Tik-A-Tay\n35 Dean Martin  –  Gentle on My Mind\n36 THE SCOTTS  –  THE SCOTTS\n37 Kid Cudi  –  Sad People\n38 Kid Cudi  –  Tequila Shots\n39 Sébastien Léger  –  Giza\n40 Mulya  –  Rush\n41 Adana Twins  –  My Computer\n42 Boris Brejcha  –  To The Moon And Back\n43 Money Boy  –  Drip Drop\n44 Westside Gunn  –  327\n45 A$AP Rocky  –  Buck Shots\n46 SAINt JHN  –  Smack DVD (feat. Kanye West)\n47 Kanye West  –  Wash Us In The Blood\n48 A$AP Rocky  –  Purity (feat. Frank Ocean)\n49 A$AP Rocky  –  Praise The Lord (Da Shine) (feat. Skepta)\n"
     ]
    }
   ],
   "source": [
    "saved_tracks = sp.current_user_saved_tracks(50)\n",
    "for idx, item in enumerate(saved_tracks['items']):\n",
    "    track = item['track']\n",
    "    print(idx, track['artists'][0]['name'], \" – \", track['name'])"
   ]
  },
  {
   "cell_type": "code",
   "execution_count": 33,
   "metadata": {},
   "outputs": [],
   "source": [
    "last_50_tracks_played = sp.current_user_recently_played(50)\n",
    "for idx, item in enumerate(last_50_tracks_played['items']):\n",
    "    track = item['track']\n",
    "    # print(idx, track['artists'][0]['name'], \" – \", track['name'])\n",
    "\n",
    "# interesting meta data\n",
    "played_at = last_50_tracks_played['items'][0]['played_at'] # time it was played\n",
    "album_name = last_50_tracks_played['items'][0]['track']['album']['name'] # album name\n",
    "album_href = last_50_tracks_played['items'][0]['track']['album']['href'] # use as subject?\n",
    "album_id = last_50_tracks_played['items'][0]['track']['album']['id'] # use as subject?\n",
    "album_images = last_50_tracks_played['items'][0]['track']['album']['images'] # [Array] for interface\n",
    "album_release_date = last_50_tracks_played['items'][0]['track']['album']['release_date']\n",
    "artists = last_50_tracks_played['items'][0]['track']['artists'] # Array\n",
    "first_artist_href = last_50_tracks_played['items'][0]['track']['artists'][0]['href']\n",
    "first_artist_id = last_50_tracks_played['items'][0]['track']['artists'][0]['id']\n",
    "first_artist_name = last_50_tracks_played['items'][0]['track']['artists'][0]['name']\n",
    "name = last_50_tracks_played['items'][0]['track']['name']\n",
    "popularity = last_50_tracks_played['items'][0]['track']['popularity']\n",
    "href = last_50_tracks_played['items'][0]['track']['href']\n",
    "duration_ms = last_50_tracks_played['items'][0]['track']['duration_ms']"
   ]
  },
  {
   "cell_type": "code",
   "execution_count": 57,
   "metadata": {},
   "outputs": [
    {
     "output_type": "stream",
     "name": "stdout",
     "text": [
      "graph has 11 statements.\n@prefix dc: <http://purl.org/dc/terms/> .\n@prefix ldp: <http://www.w3.org/ns/ldp#> .\n@prefix posix: <http://www.w3.org/ns/posix/stat#> .\n@prefix xsd: <http://www.w3.org/2001/XMLSchema#> .\n\n<http://localhost:3000> a ldp:BasicContainer,\n        ldp:Container,\n        ldp:Resource ;\n    dc:modified \"2021-02-04T20:39:42.168000+00:00\"^^xsd:dateTime ;\n    ldp:contains <http://localhost:3000/.acl> ;\n    posix:mtime 1612471182 ;\n    posix:size 96 .\n\n<http://localhost:3000/.acl> a ldp:Resource ;\n    dc:modified \"2021-02-04T20:39:42.169000+00:00\"^^xsd:dateTime ;\n    posix:mtime 1612471182 ;\n    posix:size 390 .\n\n\n"
     ]
    }
   ],
   "source": [
    "import rdflib\n",
    "g = rdflib.Graph()\n",
    "\n",
    "# parse in an RDF file hosted on the Internet\n",
    "result = g.parse(\"http://localhost:3000\")\n",
    "\n",
    "# loop through each triple in the graph (subj, pred, obj)\n",
    "for subj, pred, obj in g:\n",
    "    # check if there is at least one triple in the Graph\n",
    "    if (subj, pred, obj) not in g:\n",
    "       raise Exception(\"It better be!\")\n",
    "\n",
    "# print the number of \"triples\" in the Graph\n",
    "print(\"graph has {} statements.\".format(len(g)))\n",
    "# prints graph has 86 statements.\n",
    "\n",
    "# print out the entire Graph in the RDF Turtle format\n",
    "print(g.serialize(format=\"turtle\").decode(\"utf-8\"))"
   ]
  }
 ]
}